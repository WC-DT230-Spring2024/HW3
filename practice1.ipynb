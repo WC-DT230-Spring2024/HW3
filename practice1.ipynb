{
 "cells": [
  {
   "cell_type": "markdown",
   "metadata": {},
   "source": [
    "### Printing a reverse triangle of numbers\n",
    "Write a program that prints the following output:\n",
    "\n",
    "```\n",
    "     9 8 7 6 5 4 3 2 1\n",
    "     8 7 6 5 4 3 2 1\n",
    "     7 6 5 4 3 2 1\n",
    "     6 5 4 3 2 1\n",
    "     5 4 3 2 1\n",
    "     4 3 2 1\n",
    "     3 2 1\n",
    "     2 1\n",
    "     1\n",
    "```"
   ]
  },
  {
   "cell_type": "code",
   "execution_count": null,
   "metadata": {
    "vscode": {
     "languageId": "plaintext"
    }
   },
   "outputs": [],
   "source": []
  }
 ],
 "metadata": {
  "language_info": {
   "name": "python"
  }
 },
 "nbformat": 4,
 "nbformat_minor": 2
}
